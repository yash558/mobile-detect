{
 "cells": [
  {
   "cell_type": "code",
   "execution_count": 1,
   "metadata": {},
   "outputs": [],
   "source": [
    "# Step 1: Imports\n",
    "import tensorflow as tf\n",
    "import sys\n",
    "import os\n",
    "sys.path.append(os.path.abspath('..'))\n",
    "\n",
    "from utils.data_loader import DataGenerator\n",
    "from utils.plot_metrics import plot_training_history"
   ]
  },
  {
   "cell_type": "code",
   "execution_count": 2,
   "metadata": {},
   "outputs": [
    {
     "name": "stdout",
     "output_type": "stream",
     "text": [
      "79\n",
      "20\n"
     ]
    }
   ],
   "source": [
    "# Step 2: Data Loading\n",
    "train_generator = DataGenerator(csv_file='../data/Regression/labels.csv', img_dir='../data/Regression/train')\n",
    "val_generator = DataGenerator(csv_file='../data/Regression/labels.csv', img_dir='../data/Regression/valid')\n",
    "\n",
    "print(train_generator.__len__())\n",
    "print(val_generator.__len__())\n"
   ]
  },
  {
   "cell_type": "code",
   "execution_count": 3,
   "metadata": {},
   "outputs": [
    {
     "name": "stderr",
     "output_type": "stream",
     "text": [
      "/Users/defaultuser1/Desktop/Mobile_Detect/.venv/lib/python3.11/site-packages/keras/src/layers/convolutional/base_conv.py:107: UserWarning: Do not pass an `input_shape`/`input_dim` argument to a layer. When using Sequential models, prefer using an `Input(shape)` object as the first layer in the model instead.\n",
      "  super().__init__(activity_regularizer=activity_regularizer, **kwargs)\n",
      "/Users/defaultuser1/Desktop/Mobile_Detect/.venv/lib/python3.11/site-packages/keras/src/trainers/data_adapters/py_dataset_adapter.py:121: UserWarning: Your `PyDataset` class should call `super().__init__(**kwargs)` in its constructor. `**kwargs` can include `workers`, `use_multiprocessing`, `max_queue_size`. Do not pass these arguments to `fit()`, as they will be ignored.\n",
      "  self._warn_if_super_not_called()\n"
     ]
    },
    {
     "name": "stdout",
     "output_type": "stream",
     "text": [
      "Epoch 1/10\n",
      "\u001b[1m79/79\u001b[0m \u001b[32m━━━━━━━━━━━━━━━━━━━━\u001b[0m\u001b[37m\u001b[0m \u001b[1m0s\u001b[0m 156ms/step - loss: 3.2600 - mae: 0.8002"
     ]
    },
    {
     "name": "stderr",
     "output_type": "stream",
     "text": [
      "/Users/defaultuser1/Desktop/Mobile_Detect/.venv/lib/python3.11/site-packages/keras/src/trainers/data_adapters/py_dataset_adapter.py:121: UserWarning: Your `PyDataset` class should call `super().__init__(**kwargs)` in its constructor. `**kwargs` can include `workers`, `use_multiprocessing`, `max_queue_size`. Do not pass these arguments to `fit()`, as they will be ignored.\n",
      "  self._warn_if_super_not_called()\n"
     ]
    },
    {
     "name": "stdout",
     "output_type": "stream",
     "text": [
      "\u001b[1m79/79\u001b[0m \u001b[32m━━━━━━━━━━━━━━━━━━━━\u001b[0m\u001b[37m\u001b[0m \u001b[1m15s\u001b[0m 176ms/step - loss: 3.2311 - mae: 0.7957 - val_loss: 0.1062 - val_mae: 0.2739\n",
      "Epoch 2/10\n",
      "\u001b[1m79/79\u001b[0m \u001b[32m━━━━━━━━━━━━━━━━━━━━\u001b[0m\u001b[37m\u001b[0m \u001b[1m16s\u001b[0m 200ms/step - loss: 0.0984 - mae: 0.2699 - val_loss: 0.0938 - val_mae: 0.2545\n",
      "Epoch 3/10\n",
      "\u001b[1m79/79\u001b[0m \u001b[32m━━━━━━━━━━━━━━━━━━━━\u001b[0m\u001b[37m\u001b[0m \u001b[1m17s\u001b[0m 215ms/step - loss: 0.0812 - mae: 0.2396 - val_loss: 0.0893 - val_mae: 0.2516\n",
      "Epoch 4/10\n",
      "\u001b[1m79/79\u001b[0m \u001b[32m━━━━━━━━━━━━━━━━━━━━\u001b[0m\u001b[37m\u001b[0m \u001b[1m16s\u001b[0m 206ms/step - loss: 0.0682 - mae: 0.2185 - val_loss: 0.0966 - val_mae: 0.2559\n",
      "Epoch 5/10\n",
      "\u001b[1m79/79\u001b[0m \u001b[32m━━━━━━━━━━━━━━━━━━━━\u001b[0m\u001b[37m\u001b[0m \u001b[1m15s\u001b[0m 189ms/step - loss: 0.0563 - mae: 0.1913 - val_loss: 0.0823 - val_mae: 0.2395\n",
      "Epoch 6/10\n",
      "\u001b[1m79/79\u001b[0m \u001b[32m━━━━━━━━━━━━━━━━━━━━\u001b[0m\u001b[37m\u001b[0m \u001b[1m14s\u001b[0m 176ms/step - loss: 0.0496 - mae: 0.1791 - val_loss: 0.0832 - val_mae: 0.2385\n",
      "Epoch 7/10\n",
      "\u001b[1m79/79\u001b[0m \u001b[32m━━━━━━━━━━━━━━━━━━━━\u001b[0m\u001b[37m\u001b[0m \u001b[1m13s\u001b[0m 165ms/step - loss: 0.0417 - mae: 0.1596 - val_loss: 0.0817 - val_mae: 0.2390\n",
      "Epoch 8/10\n",
      "\u001b[1m79/79\u001b[0m \u001b[32m━━━━━━━━━━━━━━━━━━━━\u001b[0m\u001b[37m\u001b[0m \u001b[1m15s\u001b[0m 193ms/step - loss: 0.0366 - mae: 0.1505 - val_loss: 0.0811 - val_mae: 0.2364\n",
      "Epoch 9/10\n",
      "\u001b[1m79/79\u001b[0m \u001b[32m━━━━━━━━━━━━━━━━━━━━\u001b[0m\u001b[37m\u001b[0m \u001b[1m15s\u001b[0m 186ms/step - loss: 0.0305 - mae: 0.1341 - val_loss: 0.0875 - val_mae: 0.2476\n",
      "Epoch 10/10\n",
      "\u001b[1m79/79\u001b[0m \u001b[32m━━━━━━━━━━━━━━━━━━━━\u001b[0m\u001b[37m\u001b[0m \u001b[1m15s\u001b[0m 192ms/step - loss: 0.0252 - mae: 0.1224 - val_loss: 0.0896 - val_mae: 0.2443\n"
     ]
    }
   ],
   "source": [
    "# Paths to CSV and image directories for regression task\n",
    "csv_file_path = '../data/Regression/labels.csv'  # CSV file containing image names and regression labels\n",
    "train_img_dir = '../data/Regression/train'       # Directory containing training images\n",
    "valid_img_dir = '../data/Regression/valid'       # Directory containing validation images\n",
    "\n",
    "# Instantiate DataGenerator for training and validation for regression\n",
    "train_generator = DataGenerator(\n",
    "    csv_file=csv_file_path,\n",
    "    img_dir=train_img_dir,\n",
    "    batch_size=32,\n",
    "    dim=(128, 128),\n",
    ")\n",
    "\n",
    "val_generator = DataGenerator(\n",
    "    csv_file=csv_file_path,\n",
    "    img_dir=valid_img_dir,\n",
    "    batch_size=32,\n",
    "    dim=(128, 128),\n",
    ")\n",
    "\n",
    "# Build a sample CNN model for regression\n",
    "model = tf.keras.models.Sequential([\n",
    "    tf.keras.layers.Conv2D(32, (3, 3), activation='relu', input_shape=(128, 128, 3)),\n",
    "    tf.keras.layers.MaxPooling2D((2, 2)),\n",
    "    tf.keras.layers.Conv2D(64, (3, 3), activation='relu'),\n",
    "    tf.keras.layers.MaxPooling2D((2, 2)),\n",
    "    tf.keras.layers.Flatten(),\n",
    "    tf.keras.layers.Dense(128, activation='relu'),\n",
    "    tf.keras.layers.Dense(4, activation='linear')  # 4 regression outputs\n",
    "])\n",
    "\n",
    "# Compile the model\n",
    "model.compile(optimizer='adam', loss='mean_squared_error', metrics=['mae'])\n",
    "\n",
    "# Train the model\n",
    "history = model.fit(train_generator, validation_data=val_generator, epochs=10)\n"
   ]
  },
  {
   "cell_type": "code",
   "execution_count": 4,
   "metadata": {},
   "outputs": [
    {
     "name": "stdout",
     "output_type": "stream",
     "text": [
      "\u001b[1m20/20\u001b[0m \u001b[32m━━━━━━━━━━━━━━━━━━━━\u001b[0m\u001b[37m\u001b[0m \u001b[1m1s\u001b[0m 73ms/step - loss: 0.0963 - mae: 0.2559\n"
     ]
    },
    {
     "data": {
      "text/plain": [
       "[0.08957802504301071, 0.24434933066368103]"
      ]
     },
     "execution_count": 4,
     "metadata": {},
     "output_type": "execute_result"
    }
   ],
   "source": [
    "\n",
    "# accuracy\n",
    "model.evaluate(val_generator)"
   ]
  },
  {
   "cell_type": "code",
   "execution_count": 7,
   "metadata": {},
   "outputs": [
    {
     "name": "stdout",
     "output_type": "stream",
     "text": [
      "Model saved at ../model/usability_accessibility_regression_model.keras\n",
      "Model loaded from ../model/usability_accessibility_regression_model.keras\n"
     ]
    },
    {
     "name": "stderr",
     "output_type": "stream",
     "text": [
      "/Users/defaultuser1/Desktop/Mobile_Detect/.venv/lib/python3.11/site-packages/keras/src/saving/saving_lib.py:719: UserWarning: Skipping variable loading for optimizer 'rmsprop', because it has 10 variables whereas the saved optimizer has 18 variables. \n",
      "  saveable.load_own_variables(weights_store.get(inner_path))\n"
     ]
    },
    {
     "name": "stdout",
     "output_type": "stream",
     "text": [
      "\u001b[1m20/20\u001b[0m \u001b[32m━━━━━━━━━━━━━━━━━━━━\u001b[0m\u001b[37m\u001b[0m \u001b[1m1s\u001b[0m 64ms/step - loss: 0.0891 - mae: 0.2386\n",
      "\u001b[1m20/20\u001b[0m \u001b[32m━━━━━━━━━━━━━━━━━━━━\u001b[0m\u001b[37m\u001b[0m \u001b[1m1s\u001b[0m 61ms/step\n",
      "[[0.14282498 0.11507619 0.1532537  0.12703645]\n",
      " [0.7917674  0.7362321  0.82774824 0.62534666]\n",
      " [0.6921976  0.61921763 0.71292245 0.553695  ]\n",
      " ...\n",
      " [0.68400365 0.60201436 0.6015418  0.5085323 ]\n",
      " [0.5599687  0.5036945  0.54285794 0.44537902]\n",
      " [0.34380573 0.30375975 0.35621005 0.28308398]]\n"
     ]
    }
   ],
   "source": [
    "# Save the model using the recommended format\n",
    "model.save('../model/usability_accessibility_regression_model.keras')\n",
    "print(\"Model saved at ../model/usability_accessibility_regression_model.keras\")\n",
    "\n",
    "\n",
    "\n",
    "# Load the model with the recommended format\n",
    "loaded_model = tf.keras.models.load_model('../model/usability_accessibility_regression_model.keras')\n",
    "print(\"Model loaded from ../model/usability_accessibility_regression_model.keras\")\n",
    "\n",
    "# Evaluate the model\n",
    "loaded_model.compile(optimizer='adam', loss='mse', metrics=['mae'])  # Recompile if necessary\n",
    "loaded_model.evaluate(val_generator)\n",
    "\n",
    "# efficiently make predictions\n",
    "\n",
    "predictions = loaded_model.predict(val_generator)\n",
    "print(predictions)\n",
    "\n",
    "\n",
    "\n",
    "\n",
    "\n"
   ]
  }
 ],
 "metadata": {
  "kernelspec": {
   "display_name": ".venv",
   "language": "python",
   "name": "python3"
  },
  "language_info": {
   "codemirror_mode": {
    "name": "ipython",
    "version": 3
   },
   "file_extension": ".py",
   "mimetype": "text/x-python",
   "name": "python",
   "nbconvert_exporter": "python",
   "pygments_lexer": "ipython3",
   "version": "3.11.0"
  }
 },
 "nbformat": 4,
 "nbformat_minor": 2
}
