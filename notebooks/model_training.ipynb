{
 "cells": [
  {
   "cell_type": "code",
   "execution_count": 1,
   "metadata": {},
   "outputs": [],
   "source": [
    "# Step 1: Imports\n",
    "import tensorflow as tf\n",
    "import sys\n",
    "import os\n",
    "sys.path.append(os.path.abspath('..'))\n",
    "\n",
    "from utils.data_loader import DataGenerator\n",
    "from utils.plot_metrics import plot_training_history"
   ]
  },
  {
   "cell_type": "code",
   "execution_count": 2,
   "metadata": {},
   "outputs": [
    {
     "name": "stdout",
     "output_type": "stream",
     "text": [
      "79\n",
      "20\n"
     ]
    }
   ],
   "source": [
    "# Step 2: Data Loading\n",
    "train_generator = DataGenerator(csv_file='../data/Regression/labels.csv', img_dir='../data/Regression/train')\n",
    "val_generator = DataGenerator(csv_file='../data/Regression/labels.csv', img_dir='../data/Regression/valid')\n",
    "\n",
    "print(train_generator.__len__())\n",
    "print(val_generator.__len__())\n"
   ]
  },
  {
   "cell_type": "code",
   "execution_count": 5,
   "metadata": {},
   "outputs": [
    {
     "name": "stderr",
     "output_type": "stream",
     "text": [
      "/Users/defaultuser1/Desktop/Mobile_Detect/.venv/lib/python3.11/site-packages/keras/src/layers/convolutional/base_conv.py:107: UserWarning: Do not pass an `input_shape`/`input_dim` argument to a layer. When using Sequential models, prefer using an `Input(shape)` object as the first layer in the model instead.\n",
      "  super().__init__(activity_regularizer=activity_regularizer, **kwargs)\n",
      "/Users/defaultuser1/Desktop/Mobile_Detect/.venv/lib/python3.11/site-packages/keras/src/trainers/data_adapters/py_dataset_adapter.py:121: UserWarning: Your `PyDataset` class should call `super().__init__(**kwargs)` in its constructor. `**kwargs` can include `workers`, `use_multiprocessing`, `max_queue_size`. Do not pass these arguments to `fit()`, as they will be ignored.\n",
      "  self._warn_if_super_not_called()\n"
     ]
    },
    {
     "name": "stdout",
     "output_type": "stream",
     "text": [
      "Epoch 1/10\n",
      "\u001b[1m79/79\u001b[0m \u001b[32m━━━━━━━━━━━━━━━━━━━━\u001b[0m\u001b[37m\u001b[0m \u001b[1m0s\u001b[0m 233ms/step - loss: 7.2469 - mae: 1.0266"
     ]
    },
    {
     "name": "stderr",
     "output_type": "stream",
     "text": [
      "/Users/defaultuser1/Desktop/Mobile_Detect/.venv/lib/python3.11/site-packages/keras/src/trainers/data_adapters/py_dataset_adapter.py:121: UserWarning: Your `PyDataset` class should call `super().__init__(**kwargs)` in its constructor. `**kwargs` can include `workers`, `use_multiprocessing`, `max_queue_size`. Do not pass these arguments to `fit()`, as they will be ignored.\n",
      "  self._warn_if_super_not_called()\n"
     ]
    },
    {
     "name": "stdout",
     "output_type": "stream",
     "text": [
      "\u001b[1m79/79\u001b[0m \u001b[32m━━━━━━━━━━━━━━━━━━━━\u001b[0m\u001b[37m\u001b[0m \u001b[1m22s\u001b[0m 269ms/step - loss: 7.1808 - mae: 1.0200 - val_loss: 0.1020 - val_mae: 0.2679\n",
      "Epoch 2/10\n",
      "\u001b[1m79/79\u001b[0m \u001b[32m━━━━━━━━━━━━━━━━━━━━\u001b[0m\u001b[37m\u001b[0m \u001b[1m22s\u001b[0m 281ms/step - loss: 0.1093 - mae: 0.2859 - val_loss: 0.0959 - val_mae: 0.2631\n",
      "Epoch 3/10\n",
      "\u001b[1m79/79\u001b[0m \u001b[32m━━━━━━━━━━━━━━━━━━━━\u001b[0m\u001b[37m\u001b[0m \u001b[1m23s\u001b[0m 296ms/step - loss: 0.0890 - mae: 0.2580 - val_loss: 0.0880 - val_mae: 0.2523\n",
      "Epoch 4/10\n",
      "\u001b[1m79/79\u001b[0m \u001b[32m━━━━━━━━━━━━━━━━━━━━\u001b[0m\u001b[37m\u001b[0m \u001b[1m27s\u001b[0m 339ms/step - loss: 0.0786 - mae: 0.2400 - val_loss: 0.0865 - val_mae: 0.2458\n",
      "Epoch 5/10\n",
      "\u001b[1m79/79\u001b[0m \u001b[32m━━━━━━━━━━━━━━━━━━━━\u001b[0m\u001b[37m\u001b[0m \u001b[1m30s\u001b[0m 382ms/step - loss: 0.0671 - mae: 0.2160 - val_loss: 0.0824 - val_mae: 0.2404\n",
      "Epoch 6/10\n",
      "\u001b[1m79/79\u001b[0m \u001b[32m━━━━━━━━━━━━━━━━━━━━\u001b[0m\u001b[37m\u001b[0m \u001b[1m36s\u001b[0m 461ms/step - loss: 0.0619 - mae: 0.2039 - val_loss: 0.0944 - val_mae: 0.2582\n",
      "Epoch 7/10\n",
      "\u001b[1m79/79\u001b[0m \u001b[32m━━━━━━━━━━━━━━━━━━━━\u001b[0m\u001b[37m\u001b[0m \u001b[1m34s\u001b[0m 431ms/step - loss: 0.0576 - mae: 0.1969 - val_loss: 0.0805 - val_mae: 0.2370\n",
      "Epoch 8/10\n",
      "\u001b[1m79/79\u001b[0m \u001b[32m━━━━━━━━━━━━━━━━━━━━\u001b[0m\u001b[37m\u001b[0m \u001b[1m32s\u001b[0m 409ms/step - loss: 0.0497 - mae: 0.1783 - val_loss: 0.0793 - val_mae: 0.2355\n",
      "Epoch 9/10\n",
      "\u001b[1m79/79\u001b[0m \u001b[32m━━━━━━━━━━━━━━━━━━━━\u001b[0m\u001b[37m\u001b[0m \u001b[1m31s\u001b[0m 393ms/step - loss: 0.0436 - mae: 0.1627 - val_loss: 0.0820 - val_mae: 0.2373\n",
      "Epoch 10/10\n",
      "\u001b[1m79/79\u001b[0m \u001b[32m━━━━━━━━━━━━━━━━━━━━\u001b[0m\u001b[37m\u001b[0m \u001b[1m31s\u001b[0m 387ms/step - loss: 0.0412 - mae: 0.1573 - val_loss: 0.0810 - val_mae: 0.2361\n"
     ]
    }
   ],
   "source": [
    "# Paths to CSV and image directories for regression task\n",
    "csv_file_path = '../data/Regression/labels.csv'  # CSV file containing image names and regression labels\n",
    "train_img_dir = '../data/Regression/train'       # Directory containing training images\n",
    "valid_img_dir = '../data/Regression/valid'       # Directory containing validation images\n",
    "\n",
    "# Instantiate DataGenerator for training and validation for regression\n",
    "train_generator = DataGenerator(\n",
    "    csv_file=csv_file_path,\n",
    "    img_dir=train_img_dir,\n",
    "    batch_size=32,\n",
    "    dim=(128, 128),\n",
    ")\n",
    "\n",
    "val_generator = DataGenerator(\n",
    "    csv_file=csv_file_path,\n",
    "    img_dir=valid_img_dir,\n",
    "    batch_size=32,\n",
    "    dim=(128, 128),\n",
    ")\n",
    "\n",
    "# Build a sample CNN model for regression\n",
    "model = tf.keras.models.Sequential([\n",
    "    tf.keras.layers.Conv2D(32, (3, 3), activation='relu', input_shape=(128, 128, 3)),\n",
    "    tf.keras.layers.MaxPooling2D((2, 2)),\n",
    "    tf.keras.layers.Conv2D(64, (3, 3), activation='relu'),\n",
    "    tf.keras.layers.MaxPooling2D((2, 2)),\n",
    "    tf.keras.layers.Flatten(),\n",
    "    tf.keras.layers.Dense(128, activation='relu'),\n",
    "    tf.keras.layers.Dense(4, activation='linear')  # 4 regression outputs\n",
    "])\n",
    "\n",
    "# Compile the model\n",
    "model.compile(optimizer='adam', loss='mean_squared_error', metrics=['mae'])\n",
    "\n",
    "# Train the model\n",
    "history = model.fit(train_generator, validation_data=val_generator, epochs=10)\n"
   ]
  },
  {
   "cell_type": "code",
   "execution_count": 16,
   "metadata": {},
   "outputs": [
    {
     "name": "stdout",
     "output_type": "stream",
     "text": [
      "\u001b[1m20/20\u001b[0m \u001b[32m━━━━━━━━━━━━━━━━━━━━\u001b[0m\u001b[37m\u001b[0m \u001b[1m1s\u001b[0m 69ms/step - loss: 0.0947 - mae: 0.2553\n"
     ]
    },
    {
     "data": {
      "text/plain": [
       "[0.09458959847688675, 0.25002947449684143]"
      ]
     },
     "execution_count": 16,
     "metadata": {},
     "output_type": "execute_result"
    }
   ],
   "source": [
    "\n",
    "# accuracy\n",
    "model.evaluate(val_generator)"
   ]
  },
  {
   "cell_type": "code",
   "execution_count": 17,
   "metadata": {},
   "outputs": [
    {
     "name": "stderr",
     "output_type": "stream",
     "text": [
      "WARNING:absl:You are saving your model as an HDF5 file via `model.save()` or `keras.saving.save_model(model)`. This file format is considered legacy. We recommend using instead the native Keras format, e.g. `model.save('my_model.keras')` or `keras.saving.save_model(model, 'my_model.keras')`. \n",
      "WARNING:absl:Compiled the loaded model, but the compiled metrics have yet to be built. `model.compile_metrics` will be empty until you train or evaluate the model.\n"
     ]
    },
    {
     "name": "stdout",
     "output_type": "stream",
     "text": [
      "Model saved at ../model/usability_accessibility_regression_model.h5\n",
      "Model loaded from ../model/usability_accessibility_regression_model.h5\n",
      "\u001b[1m20/20\u001b[0m \u001b[32m━━━━━━━━━━━━━━━━━━━━\u001b[0m\u001b[37m\u001b[0m \u001b[1m2s\u001b[0m 78ms/step - loss: 0.1028 - mean_absolute_error: 0.2582\n",
      "\u001b[1m20/20\u001b[0m \u001b[32m━━━━━━━━━━━━━━━━━━━━\u001b[0m\u001b[37m\u001b[0m \u001b[1m1s\u001b[0m 59ms/step\n",
      "[[ 9.7253591e-01  9.4667971e-01  1.0520681e+00  8.4305036e-01]\n",
      " [ 7.5452197e-01  7.4452943e-01  8.2332152e-01  6.5387744e-01]\n",
      " [-7.7600736e-04  3.2644577e-02  2.0541990e-02  1.8415898e-03]\n",
      " ...\n",
      " [-4.7352444e-02 -7.3118091e-02 -9.5483132e-02 -1.0930946e-01]\n",
      " [ 4.4444233e-01  4.1779926e-01  4.6299666e-01  3.9617491e-01]\n",
      " [ 7.1888262e-01  7.1352100e-01  7.8611851e-01  6.0960853e-01]]\n"
     ]
    }
   ],
   "source": [
    "# Step 6: Save Model\n",
    "model.save('../model/usability_accessibility_regression_model.h5')\n",
    "print(\"Model saved at ../model/usability_accessibility_regression_model.h5\")\n",
    "\n",
    "\n",
    "# Step 7: Load Model\n",
    "loaded_model = tf.keras.models.load_model('../model/usability_accessibility_regression_model.h5')\n",
    "print(\"Model loaded from ../model/usability_accessibility_regression_model.h5\")\n",
    "\n",
    "# Step 8: Evaluate Model\n",
    "loaded_model.evaluate(val_generator)\n",
    "\n",
    "# Step 9: Make Predictions\n",
    "predictions = loaded_model.predict(val_generator)\n",
    "print(predictions)\n",
    "\n",
    "\n",
    "\n",
    "\n"
   ]
  }
 ],
 "metadata": {
  "kernelspec": {
   "display_name": ".venv",
   "language": "python",
   "name": "python3"
  },
  "language_info": {
   "codemirror_mode": {
    "name": "ipython",
    "version": 3
   },
   "file_extension": ".py",
   "mimetype": "text/x-python",
   "name": "python",
   "nbconvert_exporter": "python",
   "pygments_lexer": "ipython3",
   "version": "3.11.0"
  }
 },
 "nbformat": 4,
 "nbformat_minor": 2
}
